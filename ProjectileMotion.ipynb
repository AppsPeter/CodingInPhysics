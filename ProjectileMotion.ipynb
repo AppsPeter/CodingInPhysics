# First, we'll "import" the software packages needed.
import pandas
import numpy
import math
%matplotlib inline
import matplotlib.pyplot as plt

#Attempt at Projectile Motion Plot

v0 = 50 
angle = 45 
g = 9.81

angleRad = angle*math.pi/180
v0x = v0 * math.cos(angleRad)
v0y = v0 * math.sin(angleRad)

timeOfFlight = 2*(v0y)/g

times = list()
heights = list()
Vy = list()
Vx = list()
xDist = list()

t=0
increment = 0.001
while (t<timeOfFlight):
    times.append(t)
    t=t+increment
    v = v0y-g*t
    h = (v0y*t)-(0.5*g*t**2)
    x = v0x*t
    
    heights.append(h)
    Vy.append(v)
    Vx.append(v0x)
    xDist.append(x)
    #print ('Time is '+repr(t))
    

plt.plot(times, heights)
plt.plot(times,xDist)
